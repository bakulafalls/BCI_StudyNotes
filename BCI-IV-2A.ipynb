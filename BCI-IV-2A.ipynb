{
 "cells": [
  {
   "cell_type": "markdown",
   "metadata": {},
   "source": [
    "1. 导入数据+查看原始数据信息"
   ]
  },
  {
   "cell_type": "code",
   "execution_count": null,
   "metadata": {},
   "outputs": [],
   "source": [
    "import mne\n",
    "data_path = r'xxx\\BCICIV_2a_gdf\\A01T.gdf'\n",
    "raw = mne.to.read_raw_gdf(data_path, preload=True)\n",
    "'''\n",
    "# MNE-Python 中对多种格式的脑电数据都进行了支持：\n",
    "# *** 如数据后缀为 .set (来自 EEGLAB 的数据)\n",
    "# 使用 mne.io.read_raw_eeglab()\n",
    "\n",
    "# *** 如数据后缀为 .vhdr (BrainVision 系统)\n",
    "# 使用 mne.io.read_raw_brainvison()\n",
    "\n",
    "# *** 如数据后缀为 .edf\n",
    "# 使用 mne.io.read_raw_edf()\n",
    "\n",
    "# *** 如数据后缀为 .bdf (BioSemi放大器)\n",
    "# 使用 mne.io.read_raw_bdf()\n",
    "\n",
    "# *** 如数据后缀为 .gdf\n",
    "# 使用 mne.io.read_raw_gdf()\n",
    "\n",
    "# *** 如数据后缀为 .cnt (Neuroscan系统)\n",
    "# 使用 mne.io.read_raw_cnt()\n",
    "\n",
    "# *** 如数据后缀为 .egi 或 .mff\n",
    "# 使用 mne.io.read_raw_egi()\n",
    "\n",
    "# *** 如数据后缀为 .data\n",
    "# 使用 mne.io.read_raw_nicolet()\n",
    "\n",
    "# *** 如数据后缀为 .nxe (Nexstim eXimia系统)\n",
    "# 使用 mne.io.read_raw_eximia()\n",
    "\n",
    "# *** 如数据后缀为 .lay 或 .dat (Persyst系统)\n",
    "# 使用 mne.io.read_raw_persyst()\n",
    "\n",
    "# *** 如数据后缀为 .eeg (Nihon Kohden系统)\n",
    "# 使用 mne.io.read_raw_nihon()\n",
    "'''\n",
    "print(raw)\n",
    "print(raw.info)"
   ]
  },
  {
   "cell_type": "markdown",
   "metadata": {},
   "source": [
    "2. 绘制原始数据波形图"
   ]
  },
  {
   "cell_type": "code",
   "execution_count": null,
   "metadata": {},
   "outputs": [],
   "source": [
    "raw.plot(duration=5, n_channels=255, clipping=None)"
   ]
  }
 ],
 "metadata": {
  "language_info": {
   "name": "python"
  }
 },
 "nbformat": 4,
 "nbformat_minor": 2
}
